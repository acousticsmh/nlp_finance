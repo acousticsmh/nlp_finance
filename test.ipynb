{
 "cells": [
  {
   "cell_type": "code",
   "execution_count": 6,
   "id": "e21ec20d-566a-4246-b1e0-7297312eb6dd",
   "metadata": {},
   "outputs": [],
   "source": [
    "import bs4\n",
    "from langchain import hub\n",
    "from langchain_community.document_loaders import WebBaseLoader\n",
    "from langchain_chroma import Chroma\n",
    "from langchain_core.output_parsers import StrOutputParser\n",
    "from langchain_core.runnables import RunnablePassthrough\n",
    "from langchain_openai import OpenAIEmbeddings\n",
    "from langchain_text_splitters import RecursiveCharacterTextSplitter\n",
    "import os\n",
    "import warnings\n",
    "from operator import itemgetter\n",
    "\n",
    "from langchain_community.llms import Together\n",
    "from langchain_community.vectorstores import FAISS\n",
    "from langchain_core.output_parsers import StrOutputParser\n",
    "from langchain_core.prompts import ChatPromptTemplate\n",
    "from langchain_together import TogetherEmbeddings\n",
    "from load import load_and_clean_html_texts\n",
    "from langchain.docstore.document import Document"
   ]
  },
  {
   "cell_type": "code",
   "execution_count": 5,
   "id": "64eb6403-83d1-4b8c-b8d2-cdef924e053e",
   "metadata": {},
   "outputs": [
    {
     "name": "stdout",
     "output_type": "stream",
     "text": [
      "Issue with /Users/kaushikarcot/Documents/GT/Summer/FinTech/nlp/sec-edgar-filings/AAPL/10-K/0001193125-14-383437\n"
     ]
    },
    {
     "ename": "AttributeError",
     "evalue": "'str' object has no attribute 'page_content'",
     "output_type": "error",
     "traceback": [
      "\u001b[0;31m---------------------------------------------------------------------------\u001b[0m",
      "\u001b[0;31mAttributeError\u001b[0m                            Traceback (most recent call last)",
      "Cell \u001b[0;32mIn[5], line 5\u001b[0m\n\u001b[1;32m      2\u001b[0m docs \u001b[38;5;241m=\u001b[39m load_and_clean_html_texts(\u001b[38;5;124m\"\u001b[39m\u001b[38;5;124mAAPL\u001b[39m\u001b[38;5;124m\"\u001b[39m)\n\u001b[1;32m      4\u001b[0m text_splitter \u001b[38;5;241m=\u001b[39m RecursiveCharacterTextSplitter(chunk_size\u001b[38;5;241m=\u001b[39m\u001b[38;5;241m1000\u001b[39m, chunk_overlap\u001b[38;5;241m=\u001b[39m\u001b[38;5;241m200\u001b[39m)\n\u001b[0;32m----> 5\u001b[0m splits \u001b[38;5;241m=\u001b[39m text_splitter\u001b[38;5;241m.\u001b[39msplit_documents(docs)\n",
      "File \u001b[0;32m~/anaconda3/envs/myenv/lib/python3.11/site-packages/langchain_text_splitters/base.py:93\u001b[0m, in \u001b[0;36mTextSplitter.split_documents\u001b[0;34m(self, documents)\u001b[0m\n\u001b[1;32m     91\u001b[0m texts, metadatas \u001b[38;5;241m=\u001b[39m [], []\n\u001b[1;32m     92\u001b[0m \u001b[38;5;28;01mfor\u001b[39;00m doc \u001b[38;5;129;01min\u001b[39;00m documents:\n\u001b[0;32m---> 93\u001b[0m     texts\u001b[38;5;241m.\u001b[39mappend(doc\u001b[38;5;241m.\u001b[39mpage_content)\n\u001b[1;32m     94\u001b[0m     metadatas\u001b[38;5;241m.\u001b[39mappend(doc\u001b[38;5;241m.\u001b[39mmetadata)\n\u001b[1;32m     95\u001b[0m \u001b[38;5;28;01mreturn\u001b[39;00m \u001b[38;5;28mself\u001b[39m\u001b[38;5;241m.\u001b[39mcreate_documents(texts, metadatas\u001b[38;5;241m=\u001b[39mmetadatas)\n",
      "\u001b[0;31mAttributeError\u001b[0m: 'str' object has no attribute 'page_content'"
     ]
    }
   ],
   "source": [
    "# Load, chunk and index the contents of the blog.\n",
    "docs = load_and_clean_html_texts(\"AAPL\")\n",
    "\n"
   ]
  },
  {
   "cell_type": "code",
   "execution_count": 7,
   "id": "950270f2-6cff-432a-b180-49faeed566d3",
   "metadata": {},
   "outputs": [],
   "source": [
    "final_docs = []\n",
    "\n",
    "for doc in docs:\n",
    "    f =  Document(page_content=doc, metadata={\"source\": \"local\"})\n",
    "    final_docs.append(f)\n",
    "\n",
    "text_splitter = RecursiveCharacterTextSplitter(chunk_size=1000, chunk_overlap=200)\n",
    "splits = text_splitter.split_documents(final_docs)"
   ]
  },
  {
   "cell_type": "code",
   "execution_count": 8,
   "id": "36c181aa-ed27-4a0b-ade2-418d0a82db39",
   "metadata": {},
   "outputs": [
    {
     "data": {
      "text/plain": [
       "'-----BEGIN PRIVACY-ENHANCED MESSAGE-----\\nProc-Type: 2001,MIC-CLEAR\\nOriginator-Name: webmaster@www.sec.gov\\nOriginator-Key-Asymmetric:\\n MFgwCgYEVQgBAQICAf8DSgAwRwJAW2sNKK9AVtBzYZmr6aGjlWyK3XmZv3dTINen\\n TWSM7vrzLADbmYQaionwg5sDW3P6oaM5D3tdezXMm7z1T+B+twIDAQAB\\nMIC-Info: RSA-MD5,RSA,\\n MjhsC9mG2K0EvUka1yxHNJkRoDsL7RoD49ttKgFrzkpRz+LMwhc5oFefyjPoytyg\\n ARYgB3AmlXI2xC09czbvbA== 0001193125-08-224958.txt : 20081105 0001193125-08-224958.hdr.sgml : 20081105 20081105061623\\nACCESSION NUMBER:\\t\\t0001193125-08-224958\\nCONFORMED SUBMISSION TYPE:\\t10-K\\nPUBLIC DOCUMENT COUNT:\\t\\t7\\nCONFORMED PERIOD OF REPORT:\\t20080927\\nFILED AS OF DATE:\\t\\t20081105\\nDATE AS OF CHANGE:\\t\\t20081105\\n\\nFILER:\\n\\n\\tCOMPANY DATA:\\t\\n\\t\\tCOMPANY CONFORMED NAME:\\t\\t\\tAPPLE INC\\n\\t\\tCENTRAL INDEX KEY:\\t\\t\\t0000320193\\n\\t\\tSTANDARD INDUSTRIAL CLASSIFICATION:\\tELECTRONIC COMPUTERS [3571]\\n\\t\\tIRS NUMBER:\\t\\t\\t\\t942404110\\n\\t\\tSTATE OF INCORPORATION:\\t\\t\\tCA\\n\\t\\tFISCAL YEAR END:\\t\\t\\t0930'"
      ]
     },
     "execution_count": 8,
     "metadata": {},
     "output_type": "execute_result"
    }
   ],
   "source": [
    "splits[0].page_content"
   ]
  },
  {
   "cell_type": "code",
   "execution_count": 12,
   "id": "7914674f-1f0b-487b-b126-6d8ba89a72f3",
   "metadata": {},
   "outputs": [
    {
     "data": {
      "text/plain": [
       "133225"
      ]
     },
     "execution_count": 12,
     "metadata": {},
     "output_type": "execute_result"
    }
   ],
   "source": [
    "len(splits)"
   ]
  },
  {
   "cell_type": "code",
   "execution_count": null,
   "id": "7bfcfc66-a182-41e2-a254-35110cb2f6ee",
   "metadata": {},
   "outputs": [],
   "source": [
    "warnings.filterwarnings(\"ignore\")\n",
    "\n",
    "vectorstore = FAISS.from_texts(\n",
    "    [x.page_content for x in splits],\n",
    "    TogetherEmbeddings(model=\"togethercomputer/m2-bert-80M-8k-retrieval\"),\n",
    ")\n",
    "\n",
    "print(\"Indexing Done\")\n",
    "\n",
    "retriever = vectorstore.as_retriever()\n",
    "\n",
    "model = Together(\n",
    "    model=\"mistralai/Mixtral-8x7B-Instruct-v0.1\"\n",
    ")\n",
    "\n",
    "# Provide a template following the LLM's original chat template.\n",
    "template = \"\"\"<s>[INST] Answer the question in a simple sentence based only on the following context:\n",
    "{context}\n",
    "\n",
    "Question: {question} [/INST] \n",
    "\"\"\"\n",
    "prompt = ChatPromptTemplate.from_template(template)\n",
    "\n",
    "chain = (\n",
    "    {\"context\": retriever, \"question\": RunnablePassthrough()}\n",
    "    | prompt\n",
    "    | model\n",
    "    | StrOutputParser()\n",
    ")\n",
    "\n",
    "input_query = \"What are some insights you can draw about Apple from this data?\"\n",
    "output = chain.invoke(input_query)\n",
    "\n",
    "print(output)"
   ]
  },
  {
   "cell_type": "code",
   "execution_count": null,
   "id": "cc1a7e69-00ce-44f9-a37a-f21f83fb142a",
   "metadata": {},
   "outputs": [],
   "source": []
  }
 ],
 "metadata": {
  "kernelspec": {
   "display_name": "Python 3 (ipykernel)",
   "language": "python",
   "name": "python3"
  },
  "language_info": {
   "codemirror_mode": {
    "name": "ipython",
    "version": 3
   },
   "file_extension": ".py",
   "mimetype": "text/x-python",
   "name": "python",
   "nbconvert_exporter": "python",
   "pygments_lexer": "ipython3",
   "version": "3.11.9"
  }
 },
 "nbformat": 4,
 "nbformat_minor": 5
}
